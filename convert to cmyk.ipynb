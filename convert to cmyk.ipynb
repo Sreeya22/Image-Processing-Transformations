{
 "cells": [
  {
   "cell_type": "code",
   "execution_count": 1,
   "id": "6f172f22-77a0-40f2-924d-fadad70efdc3",
   "metadata": {},
   "outputs": [],
   "source": [
    "import cv2\n",
    "import numpy as np\n",
    "\n",
    "# Load your image (replace 'image_path.jpg' with your actual image path)\n",
    "image_path = r\"C:\\Users\\Student\\Desktop\\R.jpg\"\n",
    "image_rgb = cv2.imread(image_path)\n",
    "\n",
    "# Convert RGB to HSV\n",
    "image_hsv = cv2.cvtColor(image_rgb, cv2.COLOR_BGR2HSV)\n",
    "\n",
    "# Convert RGB to CMYK\n",
    "image_normalized = image_rgb / 255.0\n",
    "C = 1 - image_normalized[:, :, 2] # Cyan\n",
    "M = 1 - image_normalized[:, :, 1] # Magenta\n",
    "Y = 1 - image_normalized[:, :, 0] # Yellow\n",
    "K = np.min([C, M, Y], axis=0) # Key (Black)\n",
    "image_cmyk = np.dstack((C, M, Y, K))\n",
    "image_cmyk = (image_cmyk * 255).astype(np.uint8)\n",
    "\n",
    "# Convert RGB to grayscale\n",
    "image_gray = cv2.cvtColor(image_rgb, cv2.COLOR_BGR2GRAY)\n",
    "\n",
    "# Display images\n",
    "cv2.imshow(\"Image in the RGB color space\", image_rgb)\n",
    "cv2.imshow(\"Image in the HSV color space\", image_hsv)\n",
    "cv2.imshow(\"Image in the CMYK color space\", image_cmyk)\n",
    "cv2.imshow(\"Image in the grayscale color space\", image_gray)\n",
    "\n",
    "cv2.waitKey(0)\n",
    "cv2.destroyAllWindows()\n"
   ]
  }
 ],
 "metadata": {
  "kernelspec": {
   "display_name": "Python 3 (ipykernel)",
   "language": "python",
   "name": "python3"
  },
  "language_info": {
   "codemirror_mode": {
    "name": "ipython",
    "version": 3
   },
   "file_extension": ".py",
   "mimetype": "text/x-python",
   "name": "python",
   "nbconvert_exporter": "python",
   "pygments_lexer": "ipython3",
   "version": "3.11.7"
  }
 },
 "nbformat": 4,
 "nbformat_minor": 5
}
